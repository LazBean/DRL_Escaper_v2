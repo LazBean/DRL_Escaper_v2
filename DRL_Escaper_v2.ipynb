{
  "nbformat": 4,
  "nbformat_minor": 0,
  "metadata": {
    "colab": {
      "provenance": [],
      "mount_file_id": "1SdTy0pUVOczIyh14H-i1jF70Q5_-FQ9c",
      "authorship_tag": "ABX9TyOajkGsZBsTbnOkrOOBkZAM",
      "include_colab_link": true
    },
    "kernelspec": {
      "name": "python3",
      "display_name": "Python 3"
    },
    "language_info": {
      "name": "python"
    }
  },
  "cells": [
    {
      "cell_type": "markdown",
      "metadata": {
        "id": "view-in-github",
        "colab_type": "text"
      },
      "source": [
        "<a href=\"https://colab.research.google.com/github/LazBean/DRL_Escaper_v2/blob/main/DRL_Escaper_v2.ipynb\" target=\"_parent\"><img src=\"https://colab.research.google.com/assets/colab-badge.svg\" alt=\"Open In Colab\"/></a>"
      ]
    },
    {
      "cell_type": "code",
      "execution_count": 3,
      "metadata": {
        "colab": {
          "base_uri": "https://localhost:8080/",
          "height": 1000
        },
        "id": "p3xubcD9RgnY",
        "outputId": "d2d23538-b756-429a-9a53-a11e941a48f9"
      },
      "outputs": [
        {
          "output_type": "stream",
          "name": "stdout",
          "text": [
            "Looking in indexes: https://pypi.org/simple, https://us-python.pkg.dev/colab-wheels/public/simple/\n",
            "Collecting tensorflow-gpu==2.3.0\n",
            "  Downloading tensorflow_gpu-2.3.0-cp37-cp37m-manylinux2010_x86_64.whl (320.4 MB)\n",
            "\u001b[K     |████████████████████████████████| 320.4 MB 46 kB/s \n",
            "\u001b[?25hRequirement already satisfied: keras-preprocessing<1.2,>=1.1.1 in /usr/local/lib/python3.7/dist-packages (from tensorflow-gpu==2.3.0) (1.1.2)\n",
            "Collecting numpy<1.19.0,>=1.16.0\n",
            "  Downloading numpy-1.18.5-cp37-cp37m-manylinux1_x86_64.whl (20.1 MB)\n",
            "\u001b[K     |████████████████████████████████| 20.1 MB 1.4 MB/s \n",
            "\u001b[?25hCollecting h5py<2.11.0,>=2.10.0\n",
            "  Downloading h5py-2.10.0-cp37-cp37m-manylinux1_x86_64.whl (2.9 MB)\n",
            "\u001b[K     |████████████████████████████████| 2.9 MB 28.9 MB/s \n",
            "\u001b[?25hRequirement already satisfied: absl-py>=0.7.0 in /usr/local/lib/python3.7/dist-packages (from tensorflow-gpu==2.3.0) (1.3.0)\n",
            "Requirement already satisfied: protobuf>=3.9.2 in /usr/local/lib/python3.7/dist-packages (from tensorflow-gpu==2.3.0) (3.19.6)\n",
            "Collecting tensorflow-estimator<2.4.0,>=2.3.0\n",
            "  Downloading tensorflow_estimator-2.3.0-py2.py3-none-any.whl (459 kB)\n",
            "\u001b[K     |████████████████████████████████| 459 kB 41.5 MB/s \n",
            "\u001b[?25hRequirement already satisfied: six>=1.12.0 in /usr/local/lib/python3.7/dist-packages (from tensorflow-gpu==2.3.0) (1.15.0)\n",
            "Requirement already satisfied: grpcio>=1.8.6 in /usr/local/lib/python3.7/dist-packages (from tensorflow-gpu==2.3.0) (1.50.0)\n",
            "Requirement already satisfied: termcolor>=1.1.0 in /usr/local/lib/python3.7/dist-packages (from tensorflow-gpu==2.3.0) (2.1.0)\n",
            "Requirement already satisfied: tensorboard<3,>=2.3.0 in /usr/local/lib/python3.7/dist-packages (from tensorflow-gpu==2.3.0) (2.9.1)\n",
            "Requirement already satisfied: opt-einsum>=2.3.2 in /usr/local/lib/python3.7/dist-packages (from tensorflow-gpu==2.3.0) (3.3.0)\n",
            "Collecting scipy==1.4.1\n",
            "  Downloading scipy-1.4.1-cp37-cp37m-manylinux1_x86_64.whl (26.1 MB)\n",
            "\u001b[K     |████████████████████████████████| 26.1 MB 2.2 MB/s \n",
            "\u001b[?25hCollecting gast==0.3.3\n",
            "  Downloading gast-0.3.3-py2.py3-none-any.whl (9.7 kB)\n",
            "Requirement already satisfied: google-pasta>=0.1.8 in /usr/local/lib/python3.7/dist-packages (from tensorflow-gpu==2.3.0) (0.2.0)\n",
            "Requirement already satisfied: wheel>=0.26 in /usr/local/lib/python3.7/dist-packages (from tensorflow-gpu==2.3.0) (0.38.4)\n",
            "Requirement already satisfied: astunparse==1.6.3 in /usr/local/lib/python3.7/dist-packages (from tensorflow-gpu==2.3.0) (1.6.3)\n",
            "Requirement already satisfied: wrapt>=1.11.1 in /usr/local/lib/python3.7/dist-packages (from tensorflow-gpu==2.3.0) (1.14.1)\n",
            "Requirement already satisfied: google-auth<3,>=1.6.3 in /usr/local/lib/python3.7/dist-packages (from tensorboard<3,>=2.3.0->tensorflow-gpu==2.3.0) (2.14.1)\n",
            "Requirement already satisfied: markdown>=2.6.8 in /usr/local/lib/python3.7/dist-packages (from tensorboard<3,>=2.3.0->tensorflow-gpu==2.3.0) (3.4.1)\n",
            "Requirement already satisfied: requests<3,>=2.21.0 in /usr/local/lib/python3.7/dist-packages (from tensorboard<3,>=2.3.0->tensorflow-gpu==2.3.0) (2.23.0)\n",
            "Requirement already satisfied: google-auth-oauthlib<0.5,>=0.4.1 in /usr/local/lib/python3.7/dist-packages (from tensorboard<3,>=2.3.0->tensorflow-gpu==2.3.0) (0.4.6)\n",
            "Requirement already satisfied: tensorboard-data-server<0.7.0,>=0.6.0 in /usr/local/lib/python3.7/dist-packages (from tensorboard<3,>=2.3.0->tensorflow-gpu==2.3.0) (0.6.1)\n",
            "Requirement already satisfied: tensorboard-plugin-wit>=1.6.0 in /usr/local/lib/python3.7/dist-packages (from tensorboard<3,>=2.3.0->tensorflow-gpu==2.3.0) (1.8.1)\n",
            "Requirement already satisfied: werkzeug>=1.0.1 in /usr/local/lib/python3.7/dist-packages (from tensorboard<3,>=2.3.0->tensorflow-gpu==2.3.0) (1.0.1)\n",
            "Requirement already satisfied: setuptools>=41.0.0 in /usr/local/lib/python3.7/dist-packages (from tensorboard<3,>=2.3.0->tensorflow-gpu==2.3.0) (57.4.0)\n",
            "Requirement already satisfied: cachetools<6.0,>=2.0.0 in /usr/local/lib/python3.7/dist-packages (from google-auth<3,>=1.6.3->tensorboard<3,>=2.3.0->tensorflow-gpu==2.3.0) (5.2.0)\n",
            "Requirement already satisfied: pyasn1-modules>=0.2.1 in /usr/local/lib/python3.7/dist-packages (from google-auth<3,>=1.6.3->tensorboard<3,>=2.3.0->tensorflow-gpu==2.3.0) (0.2.8)\n",
            "Requirement already satisfied: rsa<5,>=3.1.4 in /usr/local/lib/python3.7/dist-packages (from google-auth<3,>=1.6.3->tensorboard<3,>=2.3.0->tensorflow-gpu==2.3.0) (4.9)\n",
            "Requirement already satisfied: requests-oauthlib>=0.7.0 in /usr/local/lib/python3.7/dist-packages (from google-auth-oauthlib<0.5,>=0.4.1->tensorboard<3,>=2.3.0->tensorflow-gpu==2.3.0) (1.3.1)\n",
            "Requirement already satisfied: importlib-metadata>=4.4 in /usr/local/lib/python3.7/dist-packages (from markdown>=2.6.8->tensorboard<3,>=2.3.0->tensorflow-gpu==2.3.0) (4.13.0)\n",
            "Requirement already satisfied: zipp>=0.5 in /usr/local/lib/python3.7/dist-packages (from importlib-metadata>=4.4->markdown>=2.6.8->tensorboard<3,>=2.3.0->tensorflow-gpu==2.3.0) (3.10.0)\n",
            "Requirement already satisfied: typing-extensions>=3.6.4 in /usr/local/lib/python3.7/dist-packages (from importlib-metadata>=4.4->markdown>=2.6.8->tensorboard<3,>=2.3.0->tensorflow-gpu==2.3.0) (4.1.1)\n",
            "Requirement already satisfied: pyasn1<0.5.0,>=0.4.6 in /usr/local/lib/python3.7/dist-packages (from pyasn1-modules>=0.2.1->google-auth<3,>=1.6.3->tensorboard<3,>=2.3.0->tensorflow-gpu==2.3.0) (0.4.8)\n",
            "Requirement already satisfied: urllib3!=1.25.0,!=1.25.1,<1.26,>=1.21.1 in /usr/local/lib/python3.7/dist-packages (from requests<3,>=2.21.0->tensorboard<3,>=2.3.0->tensorflow-gpu==2.3.0) (1.24.3)\n",
            "Requirement already satisfied: idna<3,>=2.5 in /usr/local/lib/python3.7/dist-packages (from requests<3,>=2.21.0->tensorboard<3,>=2.3.0->tensorflow-gpu==2.3.0) (2.10)\n",
            "Requirement already satisfied: chardet<4,>=3.0.2 in /usr/local/lib/python3.7/dist-packages (from requests<3,>=2.21.0->tensorboard<3,>=2.3.0->tensorflow-gpu==2.3.0) (3.0.4)\n",
            "Requirement already satisfied: certifi>=2017.4.17 in /usr/local/lib/python3.7/dist-packages (from requests<3,>=2.21.0->tensorboard<3,>=2.3.0->tensorflow-gpu==2.3.0) (2022.9.24)\n",
            "Requirement already satisfied: oauthlib>=3.0.0 in /usr/local/lib/python3.7/dist-packages (from requests-oauthlib>=0.7.0->google-auth-oauthlib<0.5,>=0.4.1->tensorboard<3,>=2.3.0->tensorflow-gpu==2.3.0) (3.2.2)\n",
            "Installing collected packages: numpy, tensorflow-estimator, scipy, h5py, gast, tensorflow-gpu\n",
            "  Attempting uninstall: numpy\n",
            "    Found existing installation: numpy 1.21.6\n",
            "    Uninstalling numpy-1.21.6:\n",
            "      Successfully uninstalled numpy-1.21.6\n",
            "  Attempting uninstall: tensorflow-estimator\n",
            "    Found existing installation: tensorflow-estimator 2.9.0\n",
            "    Uninstalling tensorflow-estimator-2.9.0:\n",
            "      Successfully uninstalled tensorflow-estimator-2.9.0\n",
            "  Attempting uninstall: scipy\n",
            "    Found existing installation: scipy 1.7.3\n",
            "    Uninstalling scipy-1.7.3:\n",
            "      Successfully uninstalled scipy-1.7.3\n",
            "  Attempting uninstall: h5py\n",
            "    Found existing installation: h5py 3.1.0\n",
            "    Uninstalling h5py-3.1.0:\n",
            "      Successfully uninstalled h5py-3.1.0\n",
            "  Attempting uninstall: gast\n",
            "    Found existing installation: gast 0.4.0\n",
            "    Uninstalling gast-0.4.0:\n",
            "      Successfully uninstalled gast-0.4.0\n",
            "\u001b[31mERROR: pip's dependency resolver does not currently take into account all the packages that are installed. This behaviour is the source of the following dependency conflicts.\n",
            "xarray-einstats 0.2.2 requires numpy>=1.21, but you have numpy 1.18.5 which is incompatible.\n",
            "tensorflow 2.9.2 requires numpy>=1.20, but you have numpy 1.18.5 which is incompatible.\n",
            "tensorflow 2.9.2 requires tensorflow-estimator<2.10.0,>=2.9.0rc0, but you have tensorflow-estimator 2.3.0 which is incompatible.\n",
            "tables 3.7.0 requires numpy>=1.19.0, but you have numpy 1.18.5 which is incompatible.\n",
            "plotnine 0.8.0 requires numpy>=1.19.0, but you have numpy 1.18.5 which is incompatible.\n",
            "plotnine 0.8.0 requires scipy>=1.5.0, but you have scipy 1.4.1 which is incompatible.\n",
            "jaxlib 0.3.25+cuda11.cudnn805 requires numpy>=1.20, but you have numpy 1.18.5 which is incompatible.\n",
            "jaxlib 0.3.25+cuda11.cudnn805 requires scipy>=1.5, but you have scipy 1.4.1 which is incompatible.\n",
            "jax 0.3.25 requires numpy>=1.20, but you have numpy 1.18.5 which is incompatible.\n",
            "jax 0.3.25 requires scipy>=1.5, but you have scipy 1.4.1 which is incompatible.\n",
            "cmdstanpy 1.0.8 requires numpy>=1.21, but you have numpy 1.18.5 which is incompatible.\u001b[0m\n",
            "Successfully installed gast-0.3.3 h5py-2.10.0 numpy-1.18.5 scipy-1.4.1 tensorflow-estimator-2.3.0 tensorflow-gpu-2.3.0\n"
          ]
        },
        {
          "output_type": "display_data",
          "data": {
            "application/vnd.colab-display-data+json": {
              "pip_warning": {
                "packages": [
                  "numpy"
                ]
              }
            }
          },
          "metadata": {}
        },
        {
          "output_type": "stream",
          "name": "stdout",
          "text": [
            "Looking in indexes: https://pypi.org/simple, https://us-python.pkg.dev/colab-wheels/public/simple/\n",
            "Requirement already satisfied: gym in /usr/local/lib/python3.7/dist-packages (0.25.2)\n",
            "Requirement already satisfied: importlib-metadata>=4.8.0 in /usr/local/lib/python3.7/dist-packages (from gym) (4.13.0)\n",
            "Requirement already satisfied: numpy>=1.18.0 in /usr/local/lib/python3.7/dist-packages (from gym) (1.18.5)\n",
            "Requirement already satisfied: gym-notices>=0.0.4 in /usr/local/lib/python3.7/dist-packages (from gym) (0.0.8)\n",
            "Requirement already satisfied: cloudpickle>=1.2.0 in /usr/local/lib/python3.7/dist-packages (from gym) (1.5.0)\n",
            "Requirement already satisfied: zipp>=0.5 in /usr/local/lib/python3.7/dist-packages (from importlib-metadata>=4.8.0->gym) (3.10.0)\n",
            "Requirement already satisfied: typing-extensions>=3.6.4 in /usr/local/lib/python3.7/dist-packages (from importlib-metadata>=4.8.0->gym) (4.1.1)\n",
            "Looking in indexes: https://pypi.org/simple, https://us-python.pkg.dev/colab-wheels/public/simple/\n",
            "Requirement already satisfied: keras in /usr/local/lib/python3.7/dist-packages (2.9.0)\n",
            "Looking in indexes: https://pypi.org/simple, https://us-python.pkg.dev/colab-wheels/public/simple/\n",
            "Collecting keras-rl2\n",
            "  Downloading keras_rl2-1.0.5-py3-none-any.whl (52 kB)\n",
            "\u001b[K     |████████████████████████████████| 52 kB 682 kB/s \n",
            "\u001b[?25hRequirement already satisfied: tensorflow in /usr/local/lib/python3.7/dist-packages (from keras-rl2) (2.9.2)\n",
            "Requirement already satisfied: gast<=0.4.0,>=0.2.1 in /usr/local/lib/python3.7/dist-packages (from tensorflow->keras-rl2) (0.3.3)\n",
            "Requirement already satisfied: six>=1.12.0 in /usr/local/lib/python3.7/dist-packages (from tensorflow->keras-rl2) (1.15.0)\n",
            "Requirement already satisfied: absl-py>=1.0.0 in /usr/local/lib/python3.7/dist-packages (from tensorflow->keras-rl2) (1.3.0)\n",
            "Requirement already satisfied: flatbuffers<2,>=1.12 in /usr/local/lib/python3.7/dist-packages (from tensorflow->keras-rl2) (1.12)\n",
            "Requirement already satisfied: protobuf<3.20,>=3.9.2 in /usr/local/lib/python3.7/dist-packages (from tensorflow->keras-rl2) (3.19.6)\n",
            "Requirement already satisfied: packaging in /usr/local/lib/python3.7/dist-packages (from tensorflow->keras-rl2) (21.3)\n",
            "Requirement already satisfied: typing-extensions>=3.6.6 in /usr/local/lib/python3.7/dist-packages (from tensorflow->keras-rl2) (4.1.1)\n",
            "Requirement already satisfied: termcolor>=1.1.0 in /usr/local/lib/python3.7/dist-packages (from tensorflow->keras-rl2) (2.1.0)\n",
            "Requirement already satisfied: libclang>=13.0.0 in /usr/local/lib/python3.7/dist-packages (from tensorflow->keras-rl2) (14.0.6)\n",
            "Requirement already satisfied: tensorflow-io-gcs-filesystem>=0.23.1 in /usr/local/lib/python3.7/dist-packages (from tensorflow->keras-rl2) (0.27.0)\n",
            "Requirement already satisfied: keras<2.10.0,>=2.9.0rc0 in /usr/local/lib/python3.7/dist-packages (from tensorflow->keras-rl2) (2.9.0)\n",
            "Requirement already satisfied: astunparse>=1.6.0 in /usr/local/lib/python3.7/dist-packages (from tensorflow->keras-rl2) (1.6.3)\n",
            "Requirement already satisfied: google-pasta>=0.1.1 in /usr/local/lib/python3.7/dist-packages (from tensorflow->keras-rl2) (0.2.0)\n",
            "Requirement already satisfied: wrapt>=1.11.0 in /usr/local/lib/python3.7/dist-packages (from tensorflow->keras-rl2) (1.14.1)\n",
            "Requirement already satisfied: setuptools in /usr/local/lib/python3.7/dist-packages (from tensorflow->keras-rl2) (57.4.0)\n",
            "Collecting numpy>=1.20\n",
            "  Downloading numpy-1.21.6-cp37-cp37m-manylinux_2_12_x86_64.manylinux2010_x86_64.whl (15.7 MB)\n",
            "\u001b[K     |████████████████████████████████| 15.7 MB 9.5 MB/s \n",
            "\u001b[?25hRequirement already satisfied: tensorboard<2.10,>=2.9 in /usr/local/lib/python3.7/dist-packages (from tensorflow->keras-rl2) (2.9.1)\n",
            "Collecting tensorflow-estimator<2.10.0,>=2.9.0rc0\n",
            "  Downloading tensorflow_estimator-2.9.0-py2.py3-none-any.whl (438 kB)\n",
            "\u001b[K     |████████████████████████████████| 438 kB 51.1 MB/s \n",
            "\u001b[?25hRequirement already satisfied: keras-preprocessing>=1.1.1 in /usr/local/lib/python3.7/dist-packages (from tensorflow->keras-rl2) (1.1.2)\n",
            "Requirement already satisfied: grpcio<2.0,>=1.24.3 in /usr/local/lib/python3.7/dist-packages (from tensorflow->keras-rl2) (1.50.0)\n",
            "Requirement already satisfied: opt-einsum>=2.3.2 in /usr/local/lib/python3.7/dist-packages (from tensorflow->keras-rl2) (3.3.0)\n",
            "Requirement already satisfied: h5py>=2.9.0 in /usr/local/lib/python3.7/dist-packages (from tensorflow->keras-rl2) (2.10.0)\n",
            "Requirement already satisfied: wheel<1.0,>=0.23.0 in /usr/local/lib/python3.7/dist-packages (from astunparse>=1.6.0->tensorflow->keras-rl2) (0.38.4)\n",
            "Requirement already satisfied: markdown>=2.6.8 in /usr/local/lib/python3.7/dist-packages (from tensorboard<2.10,>=2.9->tensorflow->keras-rl2) (3.4.1)\n",
            "Requirement already satisfied: tensorboard-plugin-wit>=1.6.0 in /usr/local/lib/python3.7/dist-packages (from tensorboard<2.10,>=2.9->tensorflow->keras-rl2) (1.8.1)\n",
            "Requirement already satisfied: google-auth-oauthlib<0.5,>=0.4.1 in /usr/local/lib/python3.7/dist-packages (from tensorboard<2.10,>=2.9->tensorflow->keras-rl2) (0.4.6)\n",
            "Requirement already satisfied: tensorboard-data-server<0.7.0,>=0.6.0 in /usr/local/lib/python3.7/dist-packages (from tensorboard<2.10,>=2.9->tensorflow->keras-rl2) (0.6.1)\n",
            "Requirement already satisfied: werkzeug>=1.0.1 in /usr/local/lib/python3.7/dist-packages (from tensorboard<2.10,>=2.9->tensorflow->keras-rl2) (1.0.1)\n",
            "Requirement already satisfied: google-auth<3,>=1.6.3 in /usr/local/lib/python3.7/dist-packages (from tensorboard<2.10,>=2.9->tensorflow->keras-rl2) (2.14.1)\n",
            "Requirement already satisfied: requests<3,>=2.21.0 in /usr/local/lib/python3.7/dist-packages (from tensorboard<2.10,>=2.9->tensorflow->keras-rl2) (2.23.0)\n",
            "Requirement already satisfied: pyasn1-modules>=0.2.1 in /usr/local/lib/python3.7/dist-packages (from google-auth<3,>=1.6.3->tensorboard<2.10,>=2.9->tensorflow->keras-rl2) (0.2.8)\n",
            "Requirement already satisfied: cachetools<6.0,>=2.0.0 in /usr/local/lib/python3.7/dist-packages (from google-auth<3,>=1.6.3->tensorboard<2.10,>=2.9->tensorflow->keras-rl2) (5.2.0)\n",
            "Requirement already satisfied: rsa<5,>=3.1.4 in /usr/local/lib/python3.7/dist-packages (from google-auth<3,>=1.6.3->tensorboard<2.10,>=2.9->tensorflow->keras-rl2) (4.9)\n",
            "Requirement already satisfied: requests-oauthlib>=0.7.0 in /usr/local/lib/python3.7/dist-packages (from google-auth-oauthlib<0.5,>=0.4.1->tensorboard<2.10,>=2.9->tensorflow->keras-rl2) (1.3.1)\n",
            "Requirement already satisfied: importlib-metadata>=4.4 in /usr/local/lib/python3.7/dist-packages (from markdown>=2.6.8->tensorboard<2.10,>=2.9->tensorflow->keras-rl2) (4.13.0)\n",
            "Requirement already satisfied: zipp>=0.5 in /usr/local/lib/python3.7/dist-packages (from importlib-metadata>=4.4->markdown>=2.6.8->tensorboard<2.10,>=2.9->tensorflow->keras-rl2) (3.10.0)\n",
            "Requirement already satisfied: pyasn1<0.5.0,>=0.4.6 in /usr/local/lib/python3.7/dist-packages (from pyasn1-modules>=0.2.1->google-auth<3,>=1.6.3->tensorboard<2.10,>=2.9->tensorflow->keras-rl2) (0.4.8)\n",
            "Requirement already satisfied: idna<3,>=2.5 in /usr/local/lib/python3.7/dist-packages (from requests<3,>=2.21.0->tensorboard<2.10,>=2.9->tensorflow->keras-rl2) (2.10)\n",
            "Requirement already satisfied: certifi>=2017.4.17 in /usr/local/lib/python3.7/dist-packages (from requests<3,>=2.21.0->tensorboard<2.10,>=2.9->tensorflow->keras-rl2) (2022.9.24)\n",
            "Requirement already satisfied: urllib3!=1.25.0,!=1.25.1,<1.26,>=1.21.1 in /usr/local/lib/python3.7/dist-packages (from requests<3,>=2.21.0->tensorboard<2.10,>=2.9->tensorflow->keras-rl2) (1.24.3)\n",
            "Requirement already satisfied: chardet<4,>=3.0.2 in /usr/local/lib/python3.7/dist-packages (from requests<3,>=2.21.0->tensorboard<2.10,>=2.9->tensorflow->keras-rl2) (3.0.4)\n",
            "Requirement already satisfied: oauthlib>=3.0.0 in /usr/local/lib/python3.7/dist-packages (from requests-oauthlib>=0.7.0->google-auth-oauthlib<0.5,>=0.4.1->tensorboard<2.10,>=2.9->tensorflow->keras-rl2) (3.2.2)\n",
            "Requirement already satisfied: pyparsing!=3.0.5,>=2.0.2 in /usr/local/lib/python3.7/dist-packages (from packaging->tensorflow->keras-rl2) (3.0.9)\n",
            "Installing collected packages: numpy, tensorflow-estimator, keras-rl2\n",
            "  Attempting uninstall: numpy\n",
            "    Found existing installation: numpy 1.18.5\n",
            "    Uninstalling numpy-1.18.5:\n",
            "      Successfully uninstalled numpy-1.18.5\n",
            "  Attempting uninstall: tensorflow-estimator\n",
            "    Found existing installation: tensorflow-estimator 2.3.0\n",
            "    Uninstalling tensorflow-estimator-2.3.0:\n",
            "      Successfully uninstalled tensorflow-estimator-2.3.0\n",
            "\u001b[31mERROR: pip's dependency resolver does not currently take into account all the packages that are installed. This behaviour is the source of the following dependency conflicts.\n",
            "tensorflow-gpu 2.3.0 requires numpy<1.19.0,>=1.16.0, but you have numpy 1.21.6 which is incompatible.\n",
            "tensorflow-gpu 2.3.0 requires tensorflow-estimator<2.4.0,>=2.3.0, but you have tensorflow-estimator 2.9.0 which is incompatible.\n",
            "plotnine 0.8.0 requires scipy>=1.5.0, but you have scipy 1.4.1 which is incompatible.\n",
            "jaxlib 0.3.25+cuda11.cudnn805 requires scipy>=1.5, but you have scipy 1.4.1 which is incompatible.\n",
            "jax 0.3.25 requires scipy>=1.5, but you have scipy 1.4.1 which is incompatible.\u001b[0m\n",
            "Successfully installed keras-rl2-1.0.5 numpy-1.21.6 tensorflow-estimator-2.9.0\n"
          ]
        },
        {
          "output_type": "display_data",
          "data": {
            "application/vnd.colab-display-data+json": {
              "pip_warning": {
                "packages": [
                  "numpy"
                ]
              }
            }
          },
          "metadata": {}
        }
      ],
      "source": [
        "!pip install tensorflow-gpu==2.3.0\n",
        "!pip install gym\n",
        "!pip install keras\n",
        "!pip install keras-rl2"
      ]
    },
    {
      "cell_type": "code",
      "source": [
        "from gym import Env\n",
        "from gym.spaces import Discrete, Box\n",
        "import numpy as np\n",
        "import random\n",
        "import time\n",
        "\n",
        "from IPython.display import clear_output\n",
        "\n",
        "class bcolors:\n",
        "    HEADER = '\\033[95m'\n",
        "    OKBLUE = '\\033[94m'\n",
        "    OKYELLOW = '\\033[93m'\n",
        "    OKCYAN = '\\033[96m'\n",
        "    OKGREEN = '\\033[92m'\n",
        "    WARNING = '\\033[93m'\n",
        "    FAIL = '\\033[91m'\n",
        "    ENDC = '\\033[0m'\n",
        "    BOLD = '\\033[1m'\n",
        "    UNDERLINE = '\\033[4m'\n",
        "    BGGREEN = '\\033[;42m'\n",
        "    BGRED = '\\033[;41m'"
      ],
      "metadata": {
        "id": "WgJi8ij5Vg7k"
      },
      "execution_count": 4,
      "outputs": []
    },
    {
      "cell_type": "code",
      "source": [
        "class CustomEnv(Env):\n",
        "  def __init__(self):\n",
        "    \n",
        "    self.observeRadius = 4\n",
        "\n",
        "    self.action_space = Discrete(4)\n",
        "    self.observation_space = self.observeRadius * 2-1\n",
        "\n",
        "    self.minW = 5\n",
        "    self.maxW = 20\n",
        "    self.minH = 5\n",
        "    self.maxH = 20\n",
        "\n",
        "    self.max_time = 100\n",
        "\n",
        "    self.maxEnemies = 8\n",
        "\n",
        "    self.reset()\n",
        "\n",
        "\n",
        "  def reset(self):\n",
        "    self.d = 0\n",
        "    self.time = 0\n",
        "    self.done = False\n",
        "\n",
        "    self.w = random.randint(self.minW, self.maxW-1)\n",
        "    self.h = random.randint(self.minH, self.maxH-1)\n",
        "\n",
        "    self.tiles = [[0 for x in range(self.w)] for y in range(self.h)] \n",
        "\n",
        "    self.player = [random.randint(0, self.w-1), random.randint(0, self.h-1)]\n",
        "\n",
        "    self.door = [random.randint(0, self.w-1), random.randint(0, self.h-1)]\n",
        "\n",
        "    self.enemiesCount = random.randint(1, self.maxEnemies-1)\n",
        "    self.enemies = [] \n",
        "\n",
        "    for i in range(self.enemiesCount):\n",
        "      self.enemies.append([random.randint(0, self.w-1), random.randint(0, self.h-1)])\n",
        "\n",
        "    return self.state_creator()\n",
        "\n",
        "\n",
        "  def step(self, action):\n",
        "\n",
        "    self.time+=1\n",
        "        \n",
        "    # Move enemies towards player\n",
        "    if(self.time%2==0):\n",
        "      for i in range(self.enemiesCount):\n",
        "\n",
        "        xd = (self.player[0] - self.enemies[i][0])\n",
        "        yd = (self.player[1] - self.enemies[i][1])\n",
        "\n",
        "        if( abs(xd)>abs(yd) ):\n",
        "          self.enemies[i][0] += 1 * np.sign(xd)\n",
        "        else:\n",
        "          self.enemies[i][1] += 1 * np.sign(yd)\n",
        " \n",
        "\n",
        "    reward = 0\n",
        "    info = {\"result\": \"\"}\n",
        "    # Giving Rewards according to conditions\n",
        "    if(self.is_player_captured()):\n",
        "      reward = -100\n",
        "      self.done = True\n",
        "      info[\"result\"] = \"Catch!\"\n",
        "\n",
        "    elif(self.is_out_of_bounds(self.player)):\n",
        "      reward = -100\n",
        "      self.done = True\n",
        "      info[\"result\"] = \"Out!\"\n",
        "\n",
        "    elif(self.time >= self.max_time):\n",
        "      reward = 0\n",
        "      self.done = True\n",
        "      info[\"result\"] = \"Time is over!\"\n",
        "\n",
        "    else:\n",
        "      reward = -1\n",
        "\n",
        "    # Player's move\n",
        "    if(self.done == False):\n",
        "      if(action == 0):\n",
        "        self.player[1] +=1\n",
        "      elif(action == 1):\n",
        "        self.player[0] +=1\n",
        "      elif(action == 2):\n",
        "        self.player[1] -=1\n",
        "      elif(action == 3):\n",
        "        self.player[0] -=1\n",
        "\n",
        "    # Counting distance to the Escape-Door\n",
        "    xd = (self.player[0] - self.door[0])\n",
        "    yd = (self.player[1] - self.door[1])\n",
        "    self.d = abs(xd) + abs(yd)\n",
        "\n",
        "    # WIN if reached the door\n",
        "    if(self.player == self.door):\n",
        "      reward = 100\n",
        "      self.done = True\n",
        "      info[\"result\"] = \"Escaped!\"\n",
        "\n",
        "    return self.state_creator(), reward, self.done, {}\n",
        "  \n",
        "\n",
        "\n",
        "  def render(self, mode='human', close=False):\n",
        "    clear_output()\n",
        "    boxGreen = bcolors.BGGREEN+' '+bcolors.ENDC\n",
        "    boxRed = bcolors.BGRED+' '+bcolors.ENDC\n",
        "    doorMark = bcolors.OKYELLOW+'O'+bcolors.ENDC\n",
        "\n",
        "    for y in range(self.h):\n",
        "      print(\"[\", end = ' ')\n",
        "      \n",
        "      for x in range(self.w):\n",
        "        s = \" ,\"\n",
        "        yy = self.h-1 - y\n",
        "        if([x,yy] == self.door):\n",
        "          s = doorMark+\",\"\n",
        "        if([x,yy] == self.player):\n",
        "          s = boxGreen+\",\"\n",
        "        for i in range(self.enemiesCount):\n",
        "          if([x,yy] == self.enemies[i]):\n",
        "            s = boxRed+\",\"\n",
        "            break\n",
        "        \n",
        "        print(s, end = ' ')\n",
        "        \n",
        "      print(\"]\")  \n",
        "    print(\"step: {}, door: {}, pos: {} - distance: {}\".format(self.time, self.door, self.player, self.d))  \n",
        "    print(\"\\nInput Data:\\n\"+str(env.state_creator()))\n",
        "    time.sleep(1)\n",
        "      \n",
        "\n",
        "  def is_player_captured(self):\n",
        "    for i in range(self.enemiesCount):\n",
        "      if(self.player == self.enemies[i]):\n",
        "        return True\n",
        "    return False\n",
        "\n",
        "\n",
        "  def is_out_of_bounds(self, pos):\n",
        "    return (pos[0] < 0) or (pos[1] < 0) or (pos[0] >= self.w) or (pos[1] >= self.h)\n",
        "\n",
        "\n",
        "  def state_creator(self):\n",
        "    r = self.observeRadius\n",
        "    state = []\n",
        "    \n",
        "    for y in range(self.player[1]+1 - r, self.player[1] + r):\n",
        "      row = []\n",
        "      yy = y\n",
        "      for x in range(self.player[0]+1 - r, self.player[0] + r):\n",
        "        v = 0\n",
        "        if(self.is_out_of_bounds([x,yy])):\n",
        "          v = -1\n",
        "        else:\n",
        "          if([x,yy] == self.door):\n",
        "            v = 2\n",
        "          if([x,yy] == self.player):\n",
        "            v = self.d #1\n",
        "          for i in range(self.enemiesCount):\n",
        "            if([x,yy] == self.enemies[i]):\n",
        "              v = -2\n",
        "              break\n",
        "        \n",
        "        row.append(v)\n",
        "      state.append(row)\n",
        "\n",
        "    a = np.array(state)\n",
        "    return a"
      ],
      "metadata": {
        "id": "uEVkmam6b4UL"
      },
      "execution_count": 5,
      "outputs": []
    },
    {
      "cell_type": "code",
      "source": [
        "env = CustomEnv()"
      ],
      "metadata": {
        "id": "nSsH6nllWdHJ"
      },
      "execution_count": 6,
      "outputs": []
    },
    {
      "cell_type": "code",
      "source": [
        "env.state_creator()"
      ],
      "metadata": {
        "colab": {
          "base_uri": "https://localhost:8080/"
        },
        "id": "z6UNI4yRtZxE",
        "outputId": "5819baf8-85cc-4340-c64e-4322b28d36dd"
      },
      "execution_count": 26,
      "outputs": [
        {
          "output_type": "execute_result",
          "data": {
            "text/plain": [
              "array([[0, 0, 0, 0, 0, 0, 0],\n",
              "       [0, 0, 0, 0, 0, 0, 0],\n",
              "       [0, 0, 0, 0, 0, 0, 0],\n",
              "       [0, 0, 0, 0, 0, 0, 0],\n",
              "       [0, 0, 0, 0, 0, 0, 0],\n",
              "       [0, 0, 0, 0, 0, 0, 0],\n",
              "       [0, 0, 0, 0, 0, 0, 0]])"
            ]
          },
          "metadata": {},
          "execution_count": 26
        }
      ]
    },
    {
      "cell_type": "code",
      "source": [
        "# Testing environment\n",
        "episodes = 10\n",
        "for episode in range(1, episodes+1):\n",
        "    state = env.reset()\n",
        "    \n",
        "    done = False\n",
        "    score = 0 \n",
        "    \n",
        "    while not done:\n",
        "        env.render()\n",
        "        action = env.action_space.sample()\n",
        "        n_state, reward, done, info = env.step(action)\n",
        "        score+=reward\n",
        "    print('Episode:{} Score:{} {}'.format(episode, score, info))"
      ],
      "metadata": {
        "id": "o5KiQCT9ZikD"
      },
      "execution_count": null,
      "outputs": []
    },
    {
      "cell_type": "markdown",
      "source": [
        "# **2. Create a Deep Learning Model with Keras**"
      ],
      "metadata": {
        "id": "8GgYsTv8pIO4"
      }
    },
    {
      "cell_type": "code",
      "source": [
        "import numpy as np\n",
        "from tensorflow.keras.models import Sequential\n",
        "from tensorflow.keras.layers import Dense, Flatten\n",
        "from tensorflow.keras.optimizers import Adam\n"
      ],
      "metadata": {
        "id": "kgnr4mnJl3Mq",
        "colab": {
          "base_uri": "https://localhost:8080/"
        },
        "outputId": "6ebafa9f-c505-4a3c-a6a9-5a9f4cd38233"
      },
      "execution_count": 8,
      "outputs": [
        {
          "output_type": "stream",
          "name": "stderr",
          "text": [
            "/usr/local/lib/python3.7/dist-packages/tensorflow/python/framework/dtypes.py:513: DeprecationWarning: `np.object` is a deprecated alias for the builtin `object`. To silence this warning, use `object` by itself. Doing this will not modify any behavior and is safe. \n",
            "Deprecated in NumPy 1.20; for more details and guidance: https://numpy.org/devdocs/release/1.20.0-notes.html#deprecations\n",
            "  np.object,\n",
            "/usr/local/lib/python3.7/dist-packages/tensorflow/python/framework/dtypes.py:521: DeprecationWarning: `np.bool` is a deprecated alias for the builtin `bool`. To silence this warning, use `bool` by itself. Doing this will not modify any behavior and is safe. If you specifically wanted the numpy scalar type, use `np.bool_` here.\n",
            "Deprecated in NumPy 1.20; for more details and guidance: https://numpy.org/devdocs/release/1.20.0-notes.html#deprecations\n",
            "  np.bool,\n",
            "/usr/local/lib/python3.7/dist-packages/tensorflow/python/framework/tensor_util.py:107: DeprecationWarning: `np.object` is a deprecated alias for the builtin `object`. To silence this warning, use `object` by itself. Doing this will not modify any behavior and is safe. \n",
            "Deprecated in NumPy 1.20; for more details and guidance: https://numpy.org/devdocs/release/1.20.0-notes.html#deprecations\n",
            "  np.object:\n",
            "/usr/local/lib/python3.7/dist-packages/tensorflow/python/framework/tensor_util.py:109: DeprecationWarning: `np.bool` is a deprecated alias for the builtin `bool`. To silence this warning, use `bool` by itself. Doing this will not modify any behavior and is safe. If you specifically wanted the numpy scalar type, use `np.bool_` here.\n",
            "Deprecated in NumPy 1.20; for more details and guidance: https://numpy.org/devdocs/release/1.20.0-notes.html#deprecations\n",
            "  np.bool:\n",
            "/usr/local/lib/python3.7/dist-packages/tensorflow/python/data/ops/iterator_ops.py:546: DeprecationWarning: Using or importing the ABCs from 'collections' instead of from 'collections.abc' is deprecated since Python 3.3,and in 3.9 it will stop working\n",
            "  class IteratorBase(collections.Iterator, trackable.Trackable,\n",
            "/usr/local/lib/python3.7/dist-packages/tensorflow/python/data/ops/dataset_ops.py:106: DeprecationWarning: Using or importing the ABCs from 'collections' instead of from 'collections.abc' is deprecated since Python 3.3,and in 3.9 it will stop working\n",
            "  class DatasetV2(collections.Iterable, tracking_base.Trackable,\n",
            "/usr/local/lib/python3.7/dist-packages/h5py/__init__.py:46: DeprecationWarning: `np.typeDict` is a deprecated alias for `np.sctypeDict`.\n",
            "  from ._conv import register_converters as _register_converters\n",
            "/usr/local/lib/python3.7/dist-packages/scipy/fft/__init__.py:97: DeprecationWarning: The module numpy.dual is deprecated.  Instead of using dual, use the functions directly from numpy or scipy.\n",
            "  from numpy.dual import register_func\n",
            "/usr/local/lib/python3.7/dist-packages/scipy/sparse/sputils.py:17: DeprecationWarning: `np.typeDict` is a deprecated alias for `np.sctypeDict`.\n",
            "  supported_dtypes = [np.typeDict[x] for x in supported_dtypes]\n"
          ]
        }
      ]
    },
    {
      "cell_type": "code",
      "source": [
        "states = env.observation_space#env.observation_space.shape[0]\n",
        "actions = env.action_space.n\n",
        "\n",
        "def build_model(states, actions):\n",
        "    model = Sequential()    \n",
        "    model.add(Dense(24, activation='relu', input_shape=(1, states, states,))) # input_dim=states\n",
        "    model.add(Dense(24, activation='relu'))\n",
        "    model.add(Flatten())\n",
        "    model.add(Dense(actions, activation='linear'))\n",
        "    return model"
      ],
      "metadata": {
        "id": "_8Js18DqpfQ9"
      },
      "execution_count": 9,
      "outputs": []
    },
    {
      "cell_type": "code",
      "source": [
        "# In case of model compilation error\n",
        "del model"
      ],
      "metadata": {
        "id": "ABmsrBibdNX_"
      },
      "execution_count": 16,
      "outputs": []
    },
    {
      "cell_type": "code",
      "source": [
        "model = build_model(states, actions)\n",
        "model.summary()"
      ],
      "metadata": {
        "colab": {
          "base_uri": "https://localhost:8080/"
        },
        "id": "FWQaE_DepkVs",
        "outputId": "80e9f29d-0a82-4188-87d1-1c2ef4a08cbd"
      },
      "execution_count": 17,
      "outputs": [
        {
          "output_type": "stream",
          "name": "stdout",
          "text": [
            "Model: \"sequential_2\"\n",
            "_________________________________________________________________\n",
            "Layer (type)                 Output Shape              Param #   \n",
            "=================================================================\n",
            "dense_6 (Dense)              (None, 1, 7, 24)          192       \n",
            "_________________________________________________________________\n",
            "dense_7 (Dense)              (None, 1, 7, 24)          600       \n",
            "_________________________________________________________________\n",
            "flatten_2 (Flatten)          (None, 168)               0         \n",
            "_________________________________________________________________\n",
            "dense_8 (Dense)              (None, 4)                 676       \n",
            "=================================================================\n",
            "Total params: 1,468\n",
            "Trainable params: 1,468\n",
            "Non-trainable params: 0\n",
            "_________________________________________________________________\n"
          ]
        }
      ]
    },
    {
      "cell_type": "markdown",
      "source": [
        "# **3. Build Agent with Keras-RL**"
      ],
      "metadata": {
        "id": "eTcYog4ZrPm0"
      }
    },
    {
      "cell_type": "code",
      "source": [
        "from rl.agents import DQNAgent\n",
        "from rl.policy import BoltzmannQPolicy\n",
        "from rl.memory import SequentialMemory"
      ],
      "metadata": {
        "id": "KBPw6VzcplGX"
      },
      "execution_count": 13,
      "outputs": []
    },
    {
      "cell_type": "code",
      "source": [
        "def build_agent(model, actions):\n",
        "    policy = BoltzmannQPolicy()\n",
        "    memory = SequentialMemory(limit=50000, window_length=1)\n",
        "    dqn = DQNAgent(model=model, memory=memory, policy=policy, \n",
        "                  nb_actions=actions, nb_steps_warmup=10, target_model_update=1e-2)\n",
        "    return dqn"
      ],
      "metadata": {
        "id": "anSOxQoOrSjZ"
      },
      "execution_count": 18,
      "outputs": []
    },
    {
      "cell_type": "code",
      "source": [
        "dqn = build_agent(model, actions)\n",
        "dqn.compile(Adam(lr=1e-3), metrics=['mae'])\n",
        "history = dqn.fit(env, nb_steps=50000, visualize=False, verbose=1)"
      ],
      "metadata": {
        "colab": {
          "base_uri": "https://localhost:8080/"
        },
        "id": "MezdgoeTrX1q",
        "outputId": "e4471402-c39f-44a6-e383-ca321642284c"
      },
      "execution_count": 19,
      "outputs": [
        {
          "output_type": "stream",
          "name": "stderr",
          "text": [
            "/usr/local/lib/python3.7/dist-packages/tensorflow/python/keras/engine/training_utils.py:1446: DeprecationWarning: Using or importing the ABCs from 'collections' instead of from 'collections.abc' is deprecated since Python 3.3,and in 3.9 it will stop working\n",
            "  if isinstance(sample_weight_mode, collections.Mapping):\n",
            "WARNING:tensorflow:From /usr/local/lib/python3.7/dist-packages/tensorflow/python/keras/engine/training_v1.py:2070: Model.state_updates (from tensorflow.python.keras.engine.training) is deprecated and will be removed in a future version.\n",
            "Instructions for updating:\n",
            "This property should not be used in TensorFlow 2.0, as updates are applied automatically.\n"
          ]
        },
        {
          "output_type": "stream",
          "name": "stdout",
          "text": [
            "Training for 50000 steps ...\n",
            "Interval 1 (0 steps performed)\n",
            "\r    1/10000 [..............................] - ETA: 14:36 - reward: -1.0000"
          ]
        },
        {
          "output_type": "stream",
          "name": "stderr",
          "text": [
            "/usr/local/lib/python3.7/dist-packages/rl/memory.py:37: UserWarning: Not enough entries to sample without replacement. Consider increasing your warm-up phase to avoid oversampling!\n",
            "  warnings.warn('Not enough entries to sample without replacement. Consider increasing your warm-up phase to avoid oversampling!')\n",
            "/usr/local/lib/python3.7/dist-packages/rl/memory.py:38: DeprecationWarning: This function is deprecated. Please call randint(1, 12 + 1) instead\n",
            "  batch_idxs = np.random.random_integers(low, high - 1, size=size)\n"
          ]
        },
        {
          "output_type": "stream",
          "name": "stdout",
          "text": [
            "   29/10000 [..............................] - ETA: 4:09 - reward: -7.7586"
          ]
        },
        {
          "output_type": "stream",
          "name": "stderr",
          "text": [
            "/usr/local/lib/python3.7/dist-packages/rl/memory.py:38: DeprecationWarning: This function is deprecated. Please call randint(1, 13 + 1) instead\n",
            "  batch_idxs = np.random.random_integers(low, high - 1, size=size)\n",
            "/usr/local/lib/python3.7/dist-packages/rl/memory.py:38: DeprecationWarning: This function is deprecated. Please call randint(1, 14 + 1) instead\n",
            "  batch_idxs = np.random.random_integers(low, high - 1, size=size)\n",
            "/usr/local/lib/python3.7/dist-packages/rl/memory.py:38: DeprecationWarning: This function is deprecated. Please call randint(1, 15 + 1) instead\n",
            "  batch_idxs = np.random.random_integers(low, high - 1, size=size)\n",
            "/usr/local/lib/python3.7/dist-packages/rl/memory.py:38: DeprecationWarning: This function is deprecated. Please call randint(1, 16 + 1) instead\n",
            "  batch_idxs = np.random.random_integers(low, high - 1, size=size)\n",
            "/usr/local/lib/python3.7/dist-packages/rl/memory.py:38: DeprecationWarning: This function is deprecated. Please call randint(1, 17 + 1) instead\n",
            "  batch_idxs = np.random.random_integers(low, high - 1, size=size)\n",
            "/usr/local/lib/python3.7/dist-packages/rl/memory.py:38: DeprecationWarning: This function is deprecated. Please call randint(1, 18 + 1) instead\n",
            "  batch_idxs = np.random.random_integers(low, high - 1, size=size)\n",
            "/usr/local/lib/python3.7/dist-packages/rl/memory.py:38: DeprecationWarning: This function is deprecated. Please call randint(1, 19 + 1) instead\n",
            "  batch_idxs = np.random.random_integers(low, high - 1, size=size)\n",
            "/usr/local/lib/python3.7/dist-packages/rl/memory.py:38: DeprecationWarning: This function is deprecated. Please call randint(1, 20 + 1) instead\n",
            "  batch_idxs = np.random.random_integers(low, high - 1, size=size)\n",
            "/usr/local/lib/python3.7/dist-packages/rl/memory.py:38: DeprecationWarning: This function is deprecated. Please call randint(1, 21 + 1) instead\n",
            "  batch_idxs = np.random.random_integers(low, high - 1, size=size)\n",
            "/usr/local/lib/python3.7/dist-packages/rl/memory.py:38: DeprecationWarning: This function is deprecated. Please call randint(1, 22 + 1) instead\n",
            "  batch_idxs = np.random.random_integers(low, high - 1, size=size)\n",
            "/usr/local/lib/python3.7/dist-packages/rl/memory.py:38: DeprecationWarning: This function is deprecated. Please call randint(1, 23 + 1) instead\n",
            "  batch_idxs = np.random.random_integers(low, high - 1, size=size)\n",
            "/usr/local/lib/python3.7/dist-packages/rl/memory.py:38: DeprecationWarning: This function is deprecated. Please call randint(1, 24 + 1) instead\n",
            "  batch_idxs = np.random.random_integers(low, high - 1, size=size)\n",
            "/usr/local/lib/python3.7/dist-packages/rl/memory.py:38: DeprecationWarning: This function is deprecated. Please call randint(1, 25 + 1) instead\n",
            "  batch_idxs = np.random.random_integers(low, high - 1, size=size)\n",
            "/usr/local/lib/python3.7/dist-packages/rl/memory.py:38: DeprecationWarning: This function is deprecated. Please call randint(1, 26 + 1) instead\n",
            "  batch_idxs = np.random.random_integers(low, high - 1, size=size)\n",
            "/usr/local/lib/python3.7/dist-packages/rl/memory.py:38: DeprecationWarning: This function is deprecated. Please call randint(1, 27 + 1) instead\n",
            "  batch_idxs = np.random.random_integers(low, high - 1, size=size)\n",
            "/usr/local/lib/python3.7/dist-packages/rl/memory.py:38: DeprecationWarning: This function is deprecated. Please call randint(1, 28 + 1) instead\n",
            "  batch_idxs = np.random.random_integers(low, high - 1, size=size)\n",
            "/usr/local/lib/python3.7/dist-packages/rl/memory.py:38: DeprecationWarning: This function is deprecated. Please call randint(1, 29 + 1) instead\n",
            "  batch_idxs = np.random.random_integers(low, high - 1, size=size)\n",
            "/usr/local/lib/python3.7/dist-packages/rl/memory.py:38: DeprecationWarning: This function is deprecated. Please call randint(1, 30 + 1) instead\n",
            "  batch_idxs = np.random.random_integers(low, high - 1, size=size)\n",
            "/usr/local/lib/python3.7/dist-packages/rl/memory.py:38: DeprecationWarning: This function is deprecated. Please call randint(1, 31 + 1) instead\n",
            "  batch_idxs = np.random.random_integers(low, high - 1, size=size)\n"
          ]
        },
        {
          "output_type": "stream",
          "name": "stdout",
          "text": [
            "10000/10000 [==============================] - 98s 10ms/step - reward: -2.8065\n",
            "635 episodes - episode_reward: -44.118 [-189.000, 100.000] - loss: 179.743 - mae: 36.283 - mean_q: -26.111\n",
            "\n",
            "Interval 2 (10000 steps performed)\n",
            "10000/10000 [==============================] - 97s 10ms/step - reward: -0.1120\n",
            "580 episodes - episode_reward: -1.945 [-199.000, 100.000] - loss: 212.591 - mae: 30.115 - mean_q: -1.834\n",
            "\n",
            "Interval 3 (20000 steps performed)\n",
            "10000/10000 [==============================] - 103s 10ms/step - reward: 0.7256\n",
            "556 episodes - episode_reward: 13.005 [-175.000, 100.000] - loss: 208.101 - mae: 28.366 - mean_q: 6.727\n",
            "\n",
            "Interval 4 (30000 steps performed)\n",
            "10000/10000 [==============================] - 98s 10ms/step - reward: 0.2602\n",
            "502 episodes - episode_reward: 5.309 [-181.000, 100.000] - loss: 197.965 - mae: 27.328 - mean_q: 13.376\n",
            "\n",
            "Interval 5 (40000 steps performed)\n",
            "10000/10000 [==============================] - 103s 10ms/step - reward: 1.0911\n",
            "done, took 499.541 seconds\n"
          ]
        }
      ]
    },
    {
      "cell_type": "code",
      "source": [
        "_ = dqn.test(env, nb_episodes=1, visualize=True)"
      ],
      "metadata": {
        "colab": {
          "base_uri": "https://localhost:8080/"
        },
        "id": "ojygm1b21WsM",
        "outputId": "955ac532-c286-4c21-83ba-e44ef9d5cc50"
      },
      "execution_count": 24,
      "outputs": [
        {
          "output_type": "stream",
          "name": "stdout",
          "text": [
            "[  ,  ,  ,  ,  ,  ,  , ]\n",
            "[  ,  ,  ,  ,  ,  ,  , ]\n",
            "[  ,  ,  ,  ,  ,  ,  , ]\n",
            "[  ,  ,  ,  ,  , \u001b[;41m \u001b[0m,  , ]\n",
            "[  , \u001b[;41m \u001b[0m,  ,  ,  , \u001b[;41m \u001b[0m,  , ]\n",
            "[  ,  ,  , \u001b[;41m \u001b[0m,  ,  ,  , ]\n",
            "[ \u001b[;42m \u001b[0m,  ,  , \u001b[;41m \u001b[0m,  ,  ,  , ]\n",
            "[  ,  ,  ,  ,  ,  ,  , ]\n",
            "step: 7, door: [0, 1], pos: [0, 1] - distance: 0\n",
            "\n",
            "Input Data:\n",
            "[[-1 -1 -1 -1 -1 -1 -1]\n",
            " [-1 -1 -1 -1 -1 -1 -1]\n",
            " [-1 -1 -1  0  0  0  0]\n",
            " [-1 -1 -1  0  0  0 -2]\n",
            " [-1 -1 -1  0  0  0 -2]\n",
            " [-1 -1 -1  0 -2  0  0]\n",
            " [-1 -1 -1  0  0  0  0]]\n",
            "Episode 1: reward: 94.000, steps: 7\n"
          ]
        }
      ]
    },
    {
      "cell_type": "markdown",
      "source": [
        "# **4. Reloading Agent from Memory**"
      ],
      "metadata": {
        "id": "U8KVUVrt4DTO"
      }
    },
    {
      "cell_type": "code",
      "source": [
        "dqn.save_weights('dqn_weights.h5f', overwrite=True)"
      ],
      "metadata": {
        "id": "l5eJ3EYx4E34"
      },
      "execution_count": 21,
      "outputs": []
    },
    {
      "cell_type": "code",
      "source": [
        "env = CustomEnv()\n",
        "actions = env.action_space.n\n",
        "states = env.observation_space\n",
        "model = build_model(states, actions)\n",
        "dqn = build_agent(model, actions)\n",
        "dqn.compile(Adam(lr=1e-3), metrics=['mae'])"
      ],
      "metadata": {
        "id": "IMqY6uZk4VWC"
      },
      "execution_count": null,
      "outputs": []
    },
    {
      "cell_type": "code",
      "source": [
        "dqn.load_weights('dqn_weights.h5f')"
      ],
      "metadata": {
        "id": "gX8qSA6D5P30"
      },
      "execution_count": null,
      "outputs": []
    },
    {
      "cell_type": "code",
      "source": [
        "_ = dqn.test(env, nb_episodes=1, visualize=True)"
      ],
      "metadata": {
        "id": "m125qc6l5Sew",
        "colab": {
          "base_uri": "https://localhost:8080/"
        },
        "outputId": "ab317357-2793-4522-defe-1f7548ef34f9"
      },
      "execution_count": 80,
      "outputs": [
        {
          "output_type": "stream",
          "name": "stdout",
          "text": [
            "[  ,  ,  ,  ,  , \u001b[93mO\u001b[0m,  ,  ,  ,  ,  ,  ,  ,  ,  , ]\n",
            "[  ,  ,  ,  ,  ,  ,  ,  ,  ,  ,  ,  ,  ,  ,  , ]\n",
            "[  ,  ,  ,  ,  ,  ,  ,  ,  ,  ,  ,  ,  ,  ,  , ]\n",
            "[  ,  ,  , \u001b[;41m \u001b[0m,  ,  ,  ,  ,  ,  ,  ,  ,  ,  ,  , ]\n",
            "[  ,  , \u001b[;41m \u001b[0m,  ,  , \u001b[;41m \u001b[0m,  ,  ,  ,  ,  ,  ,  ,  ,  , ]\n",
            "[  ,  ,  ,  ,  ,  ,  ,  ,  ,  ,  ,  ,  ,  ,  , ]\n",
            "step: 14, door: [5, 5], pos: [3, 2] - distance: 5\n",
            "\n",
            "Input Data:\n",
            "[[-1 -1 -1 -1 -1 -1 -1]\n",
            " [ 0  0  0  0  0  0  0]\n",
            " [ 0  0 -2  0  0 -2  0]\n",
            " [ 0  0  0 -2  0  0  0]\n",
            " [ 0  0  0  0  0  0  0]\n",
            " [ 0  0  0  0  0  0  0]\n",
            " [ 0  0  0  0  0  2  0]]\n",
            "Episode 1: reward: -113.000, steps: 14\n"
          ]
        }
      ]
    },
    {
      "cell_type": "code",
      "source": [
        "scores = dqn.test(env, nb_episodes=100, visualize=False)\n",
        "print(np.mean(scores.history['episode_reward']))"
      ],
      "metadata": {
        "colab": {
          "base_uri": "https://localhost:8080/"
        },
        "id": "6nJeN1saGfEw",
        "outputId": "dfd4b99b-b66a-4dfc-d1b2-71e86fcff3fe"
      },
      "execution_count": 78,
      "outputs": [
        {
          "output_type": "stream",
          "name": "stdout",
          "text": [
            "Testing for 100 episodes ...\n",
            "Episode 1: reward: 55.000, steps: 46\n",
            "Episode 2: reward: 19.000, steps: 82\n",
            "Episode 3: reward: 87.000, steps: 14\n",
            "Episode 4: reward: -109.000, steps: 10\n",
            "Episode 5: reward: 93.000, steps: 8\n",
            "Episode 6: reward: 60.000, steps: 41\n",
            "Episode 7: reward: 75.000, steps: 26\n",
            "Episode 8: reward: 74.000, steps: 27\n",
            "Episode 9: reward: -105.000, steps: 6\n",
            "Episode 10: reward: 94.000, steps: 7\n",
            "Episode 11: reward: 32.000, steps: 69\n",
            "Episode 12: reward: 90.000, steps: 11\n",
            "Episode 13: reward: 98.000, steps: 3\n",
            "Episode 14: reward: -101.000, steps: 2\n",
            "Episode 15: reward: 94.000, steps: 7\n",
            "Episode 16: reward: 81.000, steps: 20\n",
            "Episode 17: reward: 90.000, steps: 11\n",
            "Episode 18: reward: 82.000, steps: 19\n",
            "Episode 19: reward: 78.000, steps: 23\n",
            "Episode 20: reward: 62.000, steps: 39\n",
            "Episode 21: reward: -139.000, steps: 40\n",
            "Episode 22: reward: 73.000, steps: 28\n",
            "Episode 23: reward: 54.000, steps: 47\n",
            "Episode 24: reward: 71.000, steps: 30\n",
            "Episode 25: reward: -107.000, steps: 8\n",
            "Episode 26: reward: -104.000, steps: 5\n",
            "Episode 27: reward: 97.000, steps: 4\n",
            "Episode 28: reward: 61.000, steps: 40\n",
            "Episode 29: reward: -109.000, steps: 10\n",
            "Episode 30: reward: 94.000, steps: 7\n",
            "Episode 31: reward: -101.000, steps: 2\n",
            "Episode 32: reward: 88.000, steps: 13\n",
            "Episode 33: reward: 78.000, steps: 23\n",
            "Episode 34: reward: -117.000, steps: 18\n",
            "Episode 35: reward: -100.000, steps: 1\n",
            "Episode 36: reward: -111.000, steps: 12\n",
            "Episode 37: reward: 68.000, steps: 33\n",
            "Episode 38: reward: 94.000, steps: 7\n",
            "Episode 39: reward: 99.000, steps: 2\n",
            "Episode 40: reward: 93.000, steps: 8\n",
            "Episode 41: reward: 99.000, steps: 2\n",
            "Episode 42: reward: -101.000, steps: 2\n",
            "Episode 43: reward: 98.000, steps: 3\n",
            "Episode 44: reward: -102.000, steps: 3\n",
            "Episode 45: reward: -100.000, steps: 1\n",
            "Episode 46: reward: 70.000, steps: 31\n",
            "Episode 47: reward: -104.000, steps: 5\n",
            "Episode 48: reward: 81.000, steps: 20\n",
            "Episode 49: reward: 58.000, steps: 43\n",
            "Episode 50: reward: -125.000, steps: 26\n",
            "Episode 51: reward: 99.000, steps: 2\n",
            "Episode 52: reward: 39.000, steps: 62\n",
            "Episode 53: reward: 68.000, steps: 33\n",
            "Episode 54: reward: 45.000, steps: 56\n",
            "Episode 55: reward: 99.000, steps: 2\n",
            "Episode 56: reward: 96.000, steps: 5\n",
            "Episode 57: reward: -119.000, steps: 20\n",
            "Episode 58: reward: 91.000, steps: 10\n",
            "Episode 59: reward: -157.000, steps: 58\n",
            "Episode 60: reward: -99.000, steps: 100\n",
            "Episode 61: reward: 97.000, steps: 4\n",
            "Episode 62: reward: 97.000, steps: 4\n",
            "Episode 63: reward: 100.000, steps: 1\n",
            "Episode 64: reward: 91.000, steps: 10\n",
            "Episode 65: reward: 97.000, steps: 4\n",
            "Episode 66: reward: -109.000, steps: 10\n",
            "Episode 67: reward: 56.000, steps: 45\n",
            "Episode 68: reward: -109.000, steps: 10\n",
            "Episode 69: reward: 97.000, steps: 4\n",
            "Episode 70: reward: 81.000, steps: 20\n",
            "Episode 71: reward: 100.000, steps: 1\n",
            "Episode 72: reward: 88.000, steps: 13\n",
            "Episode 73: reward: -103.000, steps: 4\n",
            "Episode 74: reward: 92.000, steps: 9\n",
            "Episode 75: reward: -107.000, steps: 8\n",
            "Episode 76: reward: -117.000, steps: 18\n",
            "Episode 77: reward: 94.000, steps: 7\n",
            "Episode 78: reward: 78.000, steps: 23\n",
            "Episode 79: reward: 60.000, steps: 41\n",
            "Episode 80: reward: 98.000, steps: 3\n",
            "Episode 81: reward: 64.000, steps: 37\n",
            "Episode 82: reward: 91.000, steps: 10\n",
            "Episode 83: reward: 51.000, steps: 50\n",
            "Episode 84: reward: 45.000, steps: 56\n",
            "Episode 85: reward: 98.000, steps: 3\n",
            "Episode 86: reward: -105.000, steps: 6\n",
            "Episode 87: reward: 92.000, steps: 9\n",
            "Episode 88: reward: 74.000, steps: 27\n",
            "Episode 89: reward: 94.000, steps: 7\n",
            "Episode 90: reward: -101.000, steps: 2\n",
            "Episode 91: reward: -101.000, steps: 2\n",
            "Episode 92: reward: -135.000, steps: 36\n",
            "Episode 93: reward: 89.000, steps: 12\n",
            "Episode 94: reward: 96.000, steps: 5\n",
            "Episode 95: reward: 69.000, steps: 32\n",
            "Episode 96: reward: 92.000, steps: 9\n",
            "Episode 97: reward: -107.000, steps: 8\n",
            "Episode 98: reward: 95.000, steps: 6\n",
            "Episode 99: reward: 95.000, steps: 6\n",
            "Episode 100: reward: 98.000, steps: 3\n",
            "25.42\n"
          ]
        }
      ]
    },
    {
      "cell_type": "code",
      "source": [
        "import plotly.graph_objs as go\n",
        "from matplotlib import pyplot as plt\n",
        "import pandas as pd\n",
        "\n",
        "\n",
        "l = 100\n",
        "\n",
        "df = pd.DataFrame (history.history['episode_reward'], columns = ['column_name'])\n",
        "df = df.rolling(window=l).mean()\n",
        "\n",
        "X = np.array(history.history['nb_steps'])\n",
        "\n",
        "plt.title('Model performance')\n",
        "plt.ylabel('Average reward for every {} episodes'.format(l))\n",
        "plt.xlabel('Steps')\n",
        "\n",
        "#plt.plot(df)\n",
        "plt.scatter(X,df, s=0.2)\n",
        "plt.show()"
      ],
      "metadata": {
        "colab": {
          "base_uri": "https://localhost:8080/",
          "height": 295
        },
        "id": "iUgNTvGvJqX8",
        "outputId": "b945b993-027f-4e81-fe18-ed3d8f257769"
      },
      "execution_count": 75,
      "outputs": [
        {
          "output_type": "display_data",
          "data": {
            "text/plain": [
              "<Figure size 432x288 with 1 Axes>"
            ],
            "image/png": "[encoded data removed]"
          },
          "metadata": {
            "needs_background": "light"
          }
        }
      ]
    }
  ]
}